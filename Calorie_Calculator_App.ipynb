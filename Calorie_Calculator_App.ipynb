{
  "nbformat": 4,
  "nbformat_minor": 0,
  "metadata": {
    "colab": {
      "provenance": []
    },
    "kernelspec": {
      "name": "python3",
      "display_name": "Python 3"
    },
    "language_info": {
      "name": "python"
    }
  },
  "cells": [
    {
      "cell_type": "markdown",
      "source": [
        "# Calorie Calculator App using Hugging Face"
      ],
      "metadata": {
        "id": "uXPlAECBEEpV"
      }
    },
    {
      "cell_type": "code",
      "execution_count": null,
      "metadata": {
        "id": "Tqd30eVyBGGi"
      },
      "outputs": [],
      "source": [
        "# Install necessary packages\n",
        "#!pip install torch\n",
        "#!pip install transformers\n",
        "#!pip install gradio"
      ]
    },
    {
      "cell_type": "code",
      "source": [
        "# importing requests\n",
        "import requests\n",
        "\n",
        "api_key = 'f7K2prtu7LJEFY7XhsEL3A==hvsK9bsKR8nKSunu'\n",
        "query = 'Granny Smith'\n",
        "api_url = 'https://api.api-ninjas.com/v1/nutrition?query={}'.format(query)\n",
        "\n",
        "# Make GET request with API key\n",
        "response = requests.get(api_url, headers={'X-Api-Key': api_key})\n",
        "\n",
        "# Check response status\n",
        "if response.status_code == requests.codes.ok:\n",
        "    print(response.text)  # Print response text\n",
        "else:\n",
        "    print(\"Error:\", response.status_code, response.text)"
      ],
      "metadata": {
        "colab": {
          "base_uri": "https://localhost:8080/"
        },
        "id": "FKAyaQtYBQnN",
        "outputId": "4782b4fc-815f-4db5-cd61-8fbfc94ef273"
      },
      "execution_count": 2,
      "outputs": [
        {
          "output_type": "stream",
          "name": "stdout",
          "text": [
            "[{\"name\": \"granny smith\", \"calories\": 58.5, \"serving_size_g\": 100.0, \"fat_total_g\": 0.2, \"fat_saturated_g\": 0.0, \"protein_g\": 0.4, \"sodium_mg\": 1, \"potassium_mg\": 12, \"cholesterol_mg\": 0, \"carbohydrates_total_g\": 13.4, \"fiber_g\": 2.8, \"sugar_g\": 9.5}]\n"
          ]
        }
      ]
    },
    {
      "cell_type": "code",
      "source": [
        "import torch\n",
        "from PIL import Image\n",
        "from transformers import ViTFeatureExtractor, ViTForImageClassification\n",
        "import warnings\n",
        "warnings.filterwarnings('ignore')\n",
        "\n",
        "# Load the pre-trained Vision Transformer model and feature extractor\n",
        "model_name = \"google/vit-base-patch16-224\"\n",
        "feature_extractor = ViTFeatureExtractor.from_pretrained(model_name)\n",
        "model = ViTForImageClassification.from_pretrained(model_name)\n",
        "\n",
        "# Path to the image\n",
        "image_path = '/content/Pizza.jpg'\n",
        "\n",
        "# Load and preprocess the image\n",
        "image = Image.open(image_path)\n",
        "\n",
        "inputs = feature_extractor(images=image, return_tensors=\"pt\")\n",
        "\n",
        "# Perform inference\n",
        "outputs = model(**inputs)\n",
        "logits = outputs.logits\n",
        "predicted_class_idx = logits.argmax(-1).item()\n",
        "predicted_label = model.config.id2label[predicted_class_idx]\n",
        "\n",
        "# Extract the name of the food item\n",
        "food_name = predicted_label.split(',')[0]\n",
        "\n",
        "# Print the food name\n",
        "print(food_name)"
      ],
      "metadata": {
        "colab": {
          "base_uri": "https://localhost:8080/"
        },
        "id": "-ovyamf1Bovm",
        "outputId": "d0d27e51-ba0d-47bf-a509-711b47e5cec5"
      },
      "execution_count": 4,
      "outputs": [
        {
          "output_type": "stream",
          "name": "stdout",
          "text": [
            "pizza\n"
          ]
        }
      ]
    },
    {
      "cell_type": "code",
      "source": [
        "from PIL import Image\n",
        "from transformers import ViTFeatureExtractor, ViTForImageClassification\n",
        "import warnings\n",
        "import requests\n",
        "import gradio as gr\n",
        "\n",
        "warnings.filterwarnings('ignore')\n",
        "\n",
        "# Load the pre-trained Vision Transformer model and feature extractor\n",
        "model_name = \"google/vit-base-patch16-224\"\n",
        "feature_extractor = ViTFeatureExtractor.from_pretrained(model_name)\n",
        "model = ViTForImageClassification.from_pretrained(model_name)\n",
        "\n",
        "# API key for the nutrition information\n",
        "api_key = 'f7K2prtu7LJEFY7XhsEL3A==hvsK9bsKR8nKSunu'\n",
        "\n",
        "def identify_image(image_path):\n",
        "    \"\"\"Identify the food item in the image.\"\"\"\n",
        "    image = Image.open(image_path)\n",
        "    inputs = feature_extractor(images=image, return_tensors=\"pt\")\n",
        "    outputs = model(**inputs)\n",
        "    logits = outputs.logits\n",
        "    predicted_class_idx = logits.argmax(-1).item()\n",
        "    predicted_label = model.config.id2label[predicted_class_idx]\n",
        "    food_name = predicted_label.split(',')[0]\n",
        "    return food_name\n",
        "\n",
        "def get_calories(food_name):\n",
        "    \"\"\"Get the calorie information of the identified food item.\"\"\"\n",
        "    api_url = 'https://api.api-ninjas.com/v1/nutrition?query={}'.format(food_name)\n",
        "    response = requests.get(api_url, headers={'X-Api-Key': api_key})\n",
        "    if response.status_code == requests.codes.ok:\n",
        "        nutrition_info = response.json()\n",
        "    else:\n",
        "        nutrition_info = {\"Error\": response.status_code, \"Message\": response.text}\n",
        "    return nutrition_info\n",
        "\n",
        "def format_nutrition_info(nutrition_info):\n",
        "    \"\"\"Format the nutritional information into an HTML table.\"\"\"\n",
        "    if \"Error\" in nutrition_info:\n",
        "        return f\"Error: {nutrition_info['Error']} - {nutrition_info['Message']}\"\n",
        "\n",
        "    if len(nutrition_info) == 0:\n",
        "        return \"No nutritional information found.\"\n",
        "\n",
        "    nutrition_data = nutrition_info[0]\n",
        "    table = f\"\"\"\n",
        "    <table border=\"1\" style=\"width: 100%; border-collapse: collapse;\">\n",
        "        <tr><th colspan=\"4\" style=\"text-align: center;\"><b>Nutrition Facts</b></th></tr>\n",
        "        <tr><td colspan=\"4\" style=\"text-align: center;\"><b>Food Name: {nutrition_data['name']}</b></td></tr>\n",
        "        <tr>\n",
        "            <td style=\"text-align: left;\"><b>Calories</b></td><td style=\"text-align: right;\">{nutrition_data['calories']}</td>\n",
        "            <td style=\"text-align: left;\"><b>Serving Size (g)</b></td><td style=\"text-align: right;\">{nutrition_data['serving_size_g']}</td>\n",
        "        </tr>\n",
        "        <tr>\n",
        "            <td style=\"text-align: left;\"><b>Total Fat (g)</b></td><td style=\"text-align: right;\">{nutrition_data['fat_total_g']}</td>\n",
        "            <td style=\"text-align: left;\"><b>Saturated Fat (g)</b></td><td style=\"text-align: right;\">{nutrition_data['fat_saturated_g']}</td>\n",
        "        </tr>\n",
        "        <tr>\n",
        "            <td style=\"text-align: left;\"><b>Protein (g)</b></td><td style=\"text-align: right;\">{nutrition_data['protein_g']}</td>\n",
        "            <td style=\"text-align: left;\"><b>Sodium (mg)</b></td><td style=\"text-align: right;\">{nutrition_data['sodium_mg']}</td>\n",
        "        </tr>\n",
        "        <tr>\n",
        "            <td style=\"text-align: left;\"><b>Potassium (mg)</b></td><td style=\"text-align: right;\">{nutrition_data['potassium_mg']}</td>\n",
        "            <td style=\"text-align: left;\"><b>Cholesterol (mg)</b></td><td style=\"text-align: right;\">{nutrition_data['cholesterol_mg']}</td>\n",
        "        </tr>\n",
        "        <tr>\n",
        "            <td style=\"text-align: left;\"><b>Total Carbohydrates (g)</b></td><td style=\"text-align: right;\">{nutrition_data['carbohydrates_total_g']}</td>\n",
        "            <td style=\"text-align: left;\"><b>Fiber (g)</b></td><td style=\"text-align: right;\">{nutrition_data['fiber_g']}</td>\n",
        "        </tr>\n",
        "        <tr>\n",
        "            <td style=\"text-align: left;\"><b>Sugar (g)</b></td><td style=\"text-align: right;\">{nutrition_data['sugar_g']}</td>\n",
        "            <td></td><td></td>\n",
        "        </tr>\n",
        "    </table>\n",
        "    \"\"\"\n",
        "    return table\n",
        "\n",
        "def main_process(image_path):\n",
        "    \"\"\"Identify the food item and fetch its calorie information.\"\"\"\n",
        "    food_name = identify_image(image_path)\n",
        "    nutrition_info = get_calories(food_name)\n",
        "    formatted_nutrition_info = format_nutrition_info(nutrition_info)\n",
        "    return formatted_nutrition_info\n",
        "\n",
        "# Define the Gradio interface\n",
        "def gradio_interface(image):\n",
        "    formatted_nutrition_info = main_process(image)\n",
        "    return formatted_nutrition_info\n",
        "\n",
        "# Create the Gradio UI\n",
        "iface = gr.Interface(\n",
        "    fn=gradio_interface,\n",
        "    inputs=gr.Image(type=\"filepath\"),\n",
        "    outputs=\"html\",\n",
        "    title=\"Food Identification and Nutrition Info\",\n",
        "    description=\"Upload an image of food to get nutritional information.\",\n",
        "    allow_flagging=\"never\"  # Disable flagging\n",
        ")\n",
        "\n",
        "# Launch the Gradio app\n",
        "if __name__ == \"__main__\":\n",
        "    iface.launch()"
      ],
      "metadata": {
        "colab": {
          "base_uri": "https://localhost:8080/",
          "height": 646
        },
        "id": "4bvk5hPlBzQd",
        "outputId": "0ca73adc-898c-406c-d2d9-fe623c48a334"
      },
      "execution_count": 7,
      "outputs": [
        {
          "output_type": "stream",
          "name": "stdout",
          "text": [
            "Setting queue=True in a Colab notebook requires sharing enabled. Setting `share=True` (you can turn this off by setting `share=False` in `launch()` explicitly).\n",
            "\n",
            "Colab notebook detected. To show errors in colab notebook, set debug=True in launch()\n",
            "Running on public URL: https://a6b239d01923fce071.gradio.live\n",
            "\n",
            "This share link expires in 72 hours. For free permanent hosting and GPU upgrades, run `gradio deploy` from Terminal to deploy to Spaces (https://huggingface.co/spaces)\n"
          ]
        },
        {
          "output_type": "display_data",
          "data": {
            "text/plain": [
              "<IPython.core.display.HTML object>"
            ],
            "text/html": [
              "<div><iframe src=\"https://a6b239d01923fce071.gradio.live\" width=\"100%\" height=\"500\" allow=\"autoplay; camera; microphone; clipboard-read; clipboard-write;\" frameborder=\"0\" allowfullscreen></iframe></div>"
            ]
          },
          "metadata": {}
        }
      ]
    },
    {
      "cell_type": "code",
      "source": [],
      "metadata": {
        "id": "LEUJX1ECCYSC"
      },
      "execution_count": null,
      "outputs": []
    }
  ]
}